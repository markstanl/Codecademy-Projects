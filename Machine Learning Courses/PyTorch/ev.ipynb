{
 "cells": [
  {
   "cell_type": "code",
   "execution_count": null,
   "id": "f8c7ff5d",
   "metadata": {},
   "outputs": [],
   "source": [
    "# Setup - import basic data libraries\n",
    "import numpy as np\n",
    "import pandas as pd"
   ]
  },
  {
   "cell_type": "markdown",
   "id": "bf62a92b",
   "metadata": {},
   "source": [
    "## Task Group 1 - Load, Inspect, and Merge Datasets"
   ]
  },
  {
   "cell_type": "markdown",
   "id": "b991c02c",
   "metadata": {},
   "source": [
    "### Task 1\n",
    "The file 'datasets/EV charging reports.csv' contains electric vehicle (EV) charging data. These come from various residential apartment buildings in Norway. The data includes specific user and garage information, plug-in and plug-out times, charging loads, and the dates of the charging sessions.\n",
    "\n",
    "Import this CSV file to a pandas DataFrame named `ev_charging_reports`.\n",
    "\n",
    "Use the `.head()` method to preview the first five rows."
   ]
  },
  {
   "cell_type": "code",
   "execution_count": null,
   "id": "b1a44adf",
   "metadata": {},
   "outputs": [],
   "source": [
    "ev_charging_reports = pd.read_csv('datasets/EV charging reports.csv')\n",
    "print(ev_charging_reports.head())"
   ]
  },
  {
   "cell_type": "markdown",
   "id": "d28d916d",
   "metadata": {},
   "source": [
    "### Task 2\n",
    "Import the file 'datasets/Local traffic distribution.csv' to a pandas DataFrame named `traffic_reports`. This dataset contains the hourly local traffic density counts at 5 nearby traffic locations.\n",
    "\n",
    "Preview the first five rows."
   ]
  },
  {
   "cell_type": "code",
   "execution_count": null,
   "id": "17b4bfb8",
   "metadata": {},
   "outputs": [],
   "source": [
    "traffic_reports = pd.read_csv('datasets/Local traffic distribution.csv')\n",
    "print(traffic_reports.head())"
   ]
  },
  {
   "cell_type": "markdown",
   "id": "7b5efc1f",
   "metadata": {},
   "source": [
    "### Task 3\n",
    "Merge the `ev_charging_reports` and `traffic_reports` datasets together into a DataFrame named `ev_charging_traffic` using the columns:\n",
    "- `Start_plugin_hour` in `ev_charging_reports`\n",
    "- `Date_from` in `traffic_reports`"
   ]
  },
  {
   "cell_type": "code",
   "execution_count": null,
   "id": "5ae7a120",
   "metadata": {},
   "outputs": [],
   "source": [
    "ev_charging_traffic = ev_charging_reports.merge(traffic_reports, left_on='Start_plugin_hour', right_on='Date_from')"
   ]
  },
  {
   "cell_type": "markdown",
   "id": "e347f0ef",
   "metadata": {},
   "source": [
    "### Task 4\n",
    "Use `.info()` to inspect the merged dataset. Specifically, pay attention to the data types and number of missing values in each column."
   ]
  },
  {
   "cell_type": "code",
   "execution_count": null,
   "id": "627ed0cb",
   "metadata": {},
   "outputs": [],
   "source": [
    "print(ev_charging_traffic.info())"
   ]
  },
  {
   "cell_type": "markdown",
   "id": "4b2d3aa4",
   "metadata": {},
   "source": [
    "## Task Group 2 - Data Cleaning and Preparation"
   ]
  },
  {
   "cell_type": "markdown",
   "id": "1015458f",
   "metadata": {},
   "source": [
    "### Task 5\n",
    "Drop columns that won't be used for training from `ev_charging_traffic_hourly`."
   ]
  },
  {
   "cell_type": "code",
   "execution_count": null,
   "id": "c31b8b14",
   "metadata": {},
   "outputs": [],
   "source": [
    "ev_charging_traffic_hourly = ev_charging_traffic.drop(columns=['session_ID', 'Garage_ID', 'User_ID', 'Shared_ID', 'Plugin_category', 'Duration_category', 'Start_plugin', 'Start_plugin_hour', 'End_plugout', 'End_plugout_hour', 'Date_from', 'Date_to'])"
   ]
  },
  {
   "cell_type": "markdown",
   "id": "f35c8898",
   "metadata": {},
   "source": [
    "### Task 6\n",
    "Replace commas with periods in the `El_kWh` and `Duration_hours` columns."
   ]
  },
  {
   "cell_type": "code",
   "execution_count": null,
   "id": "e1e5a0ea",
   "metadata": {},
   "outputs": [],
   "source": [
    "ev_charging_traffic_hourly['El_kWh'] = ev_charging_traffic_hourly['El_kWh'].str.replace(',', '.')\n",
    "ev_charging_traffic_hourly['Duration_hours'] = ev_charging_traffic_hourly['Duration_hours'].str.replace(',', '.')"
   ]
  },
  {
   "cell_type": "markdown",
   "id": "c026bc2c",
   "metadata": {},
   "source": [
    "### Task 7\n",
    "Convert the data types of all the columns of `ev_charging_traffic_hourly` to floats."
   ]
  },
  {
   "cell_type": "code",
   "execution_count": null,
   "id": "e57eaf4b",
   "metadata": {},
   "outputs": [],
   "source": [
    "ev_charging_traffic_hourly = ev_charging_traffic_hourly.astype(float)"
   ]
  },
  {
   "cell_type": "markdown",
   "id": "86f4cc98",
   "metadata": {},
   "source": [
    "## Task Group 3 - Train Test Split"
   ]
  },
  {
   "cell_type": "markdown",
   "id": "e5457d3e",
   "metadata": {},
   "source": [
    "### Task 8\n",
    "Create two datasets from `ev_charging_traffic_hourly`:\n",
    "- `X` contains only the input numerical features\n",
    "- `y` contains only the target column `El_kWh`"
   ]
  },
  {
   "cell_type": "code",
   "execution_count": null,
   "id": "b77f8f1e",
   "metadata": {},
   "outputs": [],
   "source": [
    "y = ev_charging_traffic_hourly['El_kWh']\n",
    "X = ev_charging_traffic_hourly.drop(columns=['El_kWh'])"
   ]
  },
  {
   "cell_type": "markdown",
   "id": "b7a85fbe",
   "metadata": {},
   "source": [
    "### Task 9\n",
    "Use sklearn to split X and y into training and testing datasets. The training set should use 80% of the data. Set the random_state parameter to 2."
   ]
  },
  {
   "cell_type": "code",
   "execution_count": null,
   "id": "292a5958",
   "metadata": {},
   "outputs": [],
   "source": [
    "from sklearn.model_selection import train_test_split\n",
    "\n",
    "X_train, X_test, y_train, y_test = train_test_split(X, y, random_state=2, train_size=0.8, test_size=0.2)"
   ]
  },
  {
   "cell_type": "markdown",
   "id": "ac042e9b",
   "metadata": {},
   "source": [
    "## Task Group 4 - Linear Regression Baseline"
   ]
  },
  {
   "cell_type": "markdown",
   "id": "248dd6c8",
   "metadata": {},
   "source": [
    "### Task 10\n",
    "Use Scikit-learn to train a Linear Regression model using the training data to predict EV charging loads."
   ]
  },
  {
   "cell_type": "code",
   "execution_count": null,
   "id": "5deac29e",
   "metadata": {},
   "outputs": [],
   "source": [
    "from sklearn.linear_model import LinearRegression\n",
    "\n",
    "linear_model = LinearRegression()\n",
    "linear_model.fit(X_train, y_train)"
   ]
  },
  {
   "cell_type": "markdown",
   "id": "a39ab66c",
   "metadata": {},
   "source": [
    "### Task 11\n",
    "Print the coefficients and intercept of the model."
   ]
  },
  {
   "cell_type": "code",
   "execution_count": null,
   "id": "352c9d8d",
   "metadata": {},
   "outputs": [],
   "source": [
    "print('Coefficients:', linear_model.coef_)\n",
    "print('Intercept:', linear_model.intercept_)"
   ]
  },
  {
   "cell_type": "markdown",
   "id": "1c44c60f",
   "metadata": {},
   "source": [
    "### Task 12\n",
    "Evaluate the performance of the model on the test set using Root Mean Squared Error (RMSE) and R-squared metrics."
   ]
  },
  {
   "cell_type": "code",
   "execution_count": null,
   "id": "be78a8cf",
   "metadata": {},
   "outputs": [],
   "source": [
    "from sklearn.metrics import mean_squared_error, r2_score\n",
    "\n",
    "y_pred = linear_model.predict(X_test)\n",
    "rmse = np.sqrt(mean_squared_error(y_test, y_pred))\n",
    "r2 = r2_score(y_test, y_pred)\n",
    "\n",
    "print('RMSE:', rmse)\n",
    "print('R-squared:', r2)"
   ]
  }
 ],
 "metadata": {
  "kernelspec": {
   "display_name": "Python 3",
   "language": "python",
   "name": "python3"
  },
  "language_info": {
   "codemirror_mode": {
    "name": "ipython",
    "version": 3
   },
   "file_extension": ".py",
   "mimetype": "text/x-python",
   "name": "python",
   "nbconvert_exporter": "python",
   "version": "3.9.7"
  }
 },
 "nbformat": 4,
 "nbformat_minor": 5
}
